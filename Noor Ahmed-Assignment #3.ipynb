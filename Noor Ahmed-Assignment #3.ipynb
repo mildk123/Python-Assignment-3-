{
 "cells": [
  {
   "cell_type": "code",
   "execution_count": 8,
   "id": "ad70f49b",
   "metadata": {},
   "outputs": [
    {
     "name": "stdout",
     "output_type": "stream",
     "text": [
      "\n",
      "Twinkle, twinkle, little star,\n",
      "    How I wonder what you are!\n",
      "        Up above the world so high,\n",
      "        Like a diamond in the sky.\n",
      "Twinkle, twinkle, little star,\n",
      "    How I wonder what you are\n",
      "\n"
     ]
    }
   ],
   "source": [
    "## Write a Python program to print the following string in a specific format (see the\n",
    "## output).\n",
    "## Twinkle, twinkle, little star,\n",
    "## How I wonder what you are!\n",
    "## Up above the world so high,\n",
    "## Like a diamond in the sky.\n",
    "## Twinkle, twinkle, little star,\n",
    "## How I wonder what you are\n",
    "\n",
    "print('''\n",
    "Twinkle, twinkle, little star,\n",
    "    How I wonder what you are!\n",
    "        Up above the world so high,\n",
    "        Like a diamond in the sky.\n",
    "Twinkle, twinkle, little star,\n",
    "    How I wonder what you are\n",
    "''')\n",
    "\n",
    "\n",
    "\n"
   ]
  },
  {
   "cell_type": "code",
   "execution_count": 14,
   "id": "08c6f9ac",
   "metadata": {},
   "outputs": [
    {
     "name": "stdout",
     "output_type": "stream",
     "text": [
      "Python Version: 3.8.8\n"
     ]
    }
   ],
   "source": [
    "## Write a Python program to get the Python version you are using\n",
    "import platform  \n",
    "print(\"Python Version:\", platform.python_version())\n"
   ]
  },
  {
   "cell_type": "code",
   "execution_count": 19,
   "id": "430c0e08",
   "metadata": {},
   "outputs": [
    {
     "name": "stdout",
     "output_type": "stream",
     "text": [
      "Current Date and Time: 2021-10-23 18:11:52.263844\n"
     ]
    }
   ],
   "source": [
    "##Write a Python program to display the current date and time.\n",
    "\n",
    "from datetime import datetime\n",
    "\n",
    "\n",
    "today = datetime.now()\n",
    "print(\"Current Date and Time:\", today)"
   ]
  },
  {
   "cell_type": "code",
   "execution_count": 23,
   "id": "96770fee",
   "metadata": {},
   "outputs": [
    {
     "name": "stdout",
     "output_type": "stream",
     "text": [
      "Radius of Circle: 2\n",
      "Area: 12.566370614359172\n"
     ]
    }
   ],
   "source": [
    "##Write a Python program which accepts the radius of a circle from the user and compute the area.\n",
    "\n",
    "from math import pi\n",
    "\n",
    "radiusInput = float(input (\"Radius of Circle: \"))\n",
    "print (\"Area: \" + str(pi * radiusInput**2))"
   ]
  },
  {
   "cell_type": "code",
   "execution_count": 28,
   "id": "a29234d7",
   "metadata": {},
   "outputs": [
    {
     "name": "stdout",
     "output_type": "stream",
     "text": [
      "Input your First Name : Noor\n",
      "Input your Last Name : Ahmed\n",
      "Hello Ahmed Noor\n"
     ]
    }
   ],
   "source": [
    "##Write a Python program which accepts the user's first and last name and print them in reverse order with a space between them.\n",
    "\n",
    "fName = input(\"Input your First Name : \")\n",
    "lName = input(\"Input your Last Name : \")\n",
    "print (\"Hello \" + lName + \" \" + fName)"
   ]
  },
  {
   "cell_type": "code",
   "execution_count": 30,
   "id": "0d52c8a2",
   "metadata": {},
   "outputs": [
    {
     "name": "stdout",
     "output_type": "stream",
     "text": [
      "Input your First value: 2\n",
      "Input your Second Value: 4\n",
      "Sum: 6\n"
     ]
    }
   ],
   "source": [
    "##Write a python program which takes two inputs from user and print them addition\n",
    "\n",
    "a = int(input(\"Input your First value: \"))\n",
    "b = int(input(\"Input your Second Value: \"))\n",
    "\n",
    "sumVal = a + b\n",
    "\n",
    "print(\"Sum:\", sumVal)\n"
   ]
  },
  {
   "cell_type": "code",
   "execution_count": 2,
   "id": "7e06d38f",
   "metadata": {},
   "outputs": [
    {
     "name": "stdout",
     "output_type": "stream",
     "text": [
      "Input your Math marks: 80\n",
      "Input your Islamiat marks: 90\n",
      "Input your English marks: 85\n",
      "Input your Urdu marks: 95\n",
      "Input your PST marks: 56\n",
      "500\n",
      "81.2\n",
      "Grade A+\n"
     ]
    }
   ],
   "source": [
    "##Write a program which takes 5 inputs from user for different subject’s marks, total it and generate mark sheet using grades ?\n",
    "\n",
    "# Marks for 3 Courses\n",
    "\n",
    "Maths = int(input(\"Input your Math marks: \"))\n",
    "Islamiat = int(input(\"Input your Islamiat marks: \"))\n",
    "English = int(input(\"Input your English marks: \"))\n",
    "Urdu = int(input(\"Input your Urdu marks: \"))\n",
    "PST = int(input(\"Input your PST marks: \"))\n",
    "\n",
    "obtainM = Maths + Islamiat + English + Urdu + PST\n",
    "totalM = 500\n",
    "print(totalM)\n",
    "percentage = (obtainM / totalM) * 100\n",
    "print(percentage)\n",
    "if percentage > 80 and percentage < 100:\n",
    "    print(\"Grade A+\")\n",
    "elif percentage > 70 and percentage < 79:\n",
    "    print(\"Grade A\")\n",
    "elif percentage > 60 and percentage < 69:\n",
    "    print(\"Grade B\")\n",
    "elif percentage > 50 and percentage < 59:\n",
    "    print(\"Grade C\")\n",
    "elif percentage > 40 and percentage < 49:\n",
    "    print(\"Grade D\")\n",
    "elif percentage > 33 and percentage < 39:\n",
    "    print(\"Grade C\")\n",
    "elif percentage > 0 and percentage < 32:\n",
    "    print(\"Grade F\")\n",
    "else:\n",
    "    print(\"Invalid Marks entered!\")\n"
   ]
  },
  {
   "cell_type": "code",
   "execution_count": 10,
   "id": "1a728188",
   "metadata": {},
   "outputs": [
    {
     "name": "stdout",
     "output_type": "stream",
     "text": [
      "Enter a Number: 4\n",
      "4 is an Even number.\n"
     ]
    }
   ],
   "source": [
    "##Write a program which take input from user and identify that the given number is even or odd?\n",
    "\n",
    "\n",
    "num = int(input(\"Enter a Number: \"))\n",
    "\n",
    "if (num%2 == 0):\n",
    "    print(num , \"is an Even number.\" )\n",
    "else:\n",
    "    print(num , \"is an Odd number.\" )\n"
   ]
  },
  {
   "cell_type": "code",
   "execution_count": 16,
   "id": "9d3ca894",
   "metadata": {},
   "outputs": [
    {
     "name": "stdout",
     "output_type": "stream",
     "text": [
      "Length of the list is:  3\n"
     ]
    }
   ],
   "source": [
    "##Write a program which print the length of the list?\n",
    "\n",
    "myList = [\"apple\", \"banana\", \"cherry\"]\n",
    "\n",
    "print(\"Length of the list is: \",len(myList))\n",
    "\n"
   ]
  },
  {
   "cell_type": "code",
   "execution_count": 18,
   "id": "d9b8f532",
   "metadata": {},
   "outputs": [
    {
     "name": "stdout",
     "output_type": "stream",
     "text": [
      "Length of the list is:  55\n"
     ]
    }
   ],
   "source": [
    "##10.Write a Python program to sum all the numeric items in a list?\n",
    "\n",
    "myList = [1,2,3,4,5,6,7,8,9,10]\n",
    "\n",
    "print(\"Sum of the list is: \",sum(myList))"
   ]
  },
  {
   "cell_type": "code",
   "execution_count": 21,
   "id": "84a2aece",
   "metadata": {},
   "outputs": [
    {
     "name": "stdout",
     "output_type": "stream",
     "text": [
      "Largest of the list is:  97\n"
     ]
    }
   ],
   "source": [
    "##11.Write a Python program to get the largest number from a numeric list.\n",
    "myList = [21,42,35,94,75,86,97,86,94,10]\n",
    "\n",
    "print(\"Largest of the list is: \", max(myList))"
   ]
  },
  {
   "cell_type": "code",
   "execution_count": 26,
   "id": "6fd693e1",
   "metadata": {},
   "outputs": [
    {
     "name": "stdout",
     "output_type": "stream",
     "text": [
      "1\n",
      "2\n",
      "-12\n",
      "4\n",
      "-1\n",
      "0\n",
      "1\n"
     ]
    }
   ],
   "source": [
    "##12. Take a list, say for example this one:\n",
    "##     a = [1, 1, 2, 3, 5, 8, 13, 21, 34, 55, 89]\n",
    "##Write a program that prints out all the elements of the list that are less than 5.\n",
    "\n",
    "a = [1, 2, -12, 4, 5, 8, -1, 0, 5, 1, 10]\n",
    "\n",
    "for i in a:\n",
    "    if(i < 5):\n",
    "        print(i)\n"
   ]
  }
 ],
 "metadata": {
  "kernelspec": {
   "display_name": "Python 3",
   "language": "python",
   "name": "python3"
  },
  "language_info": {
   "codemirror_mode": {
    "name": "ipython",
    "version": 3
   },
   "file_extension": ".py",
   "mimetype": "text/x-python",
   "name": "python",
   "nbconvert_exporter": "python",
   "pygments_lexer": "ipython3",
   "version": "3.8.8"
  }
 },
 "nbformat": 4,
 "nbformat_minor": 5
}
